{
  "nbformat": 4,
  "nbformat_minor": 0,
  "metadata": {
    "colab": {
      "provenance": [],
      "authorship_tag": "ABX9TyPPF/P8nAdkm30q0Hz1U3M5",
      "include_colab_link": true
    },
    "kernelspec": {
      "name": "python3",
      "display_name": "Python 3"
    },
    "language_info": {
      "name": "python"
    }
  },
  "cells": [
    {
      "cell_type": "markdown",
      "metadata": {
        "id": "view-in-github",
        "colab_type": "text"
      },
      "source": [
        "<a href=\"https://colab.research.google.com/github/MarcosCuartasJaramillo/Leap-Year-calculation/blob/main/LeapYear.ipynb\" target=\"_parent\"><img src=\"https://colab.research.google.com/assets/colab-badge.svg\" alt=\"Open In Colab\"/></a>"
      ]
    },
    {
      "cell_type": "code",
      "execution_count": 2,
      "metadata": {
        "colab": {
          "base_uri": "https://localhost:8080/"
        },
        "id": "ydtAt00QCQsY",
        "outputId": "1eb7574e-2821-4975-b404-9856dc1d474f"
      },
      "outputs": [
        {
          "output_type": "stream",
          "name": "stdout",
          "text": [
            " Enter a year\" 2020\n",
            "2020 is not a leap year!\n"
          ]
        }
      ],
      "source": [
        "year = int(input(' Enter a year\" '))\n",
        "if(year % 4 and year % 100 != 0) or ( year % 400 == 0):\n",
        "  print(f'{year} is a leap year!')\n",
        "else:\n",
        "  print(f'{year} is not a leap year!')"
      ]
    }
  ]
}